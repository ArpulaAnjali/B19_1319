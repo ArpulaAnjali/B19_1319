{
  "nbformat": 4,
  "nbformat_minor": 0,
  "metadata": {
    "colab": {
      "provenance": [],
      "authorship_tag": "ABX9TyPQbJaMRqFQeAGmpPn9KAjp",
      "include_colab_link": true
    },
    "kernelspec": {
      "name": "python3",
      "display_name": "Python 3"
    },
    "language_info": {
      "name": "python"
    }
  },
  "cells": [
    {
      "cell_type": "markdown",
      "metadata": {
        "id": "view-in-github",
        "colab_type": "text"
      },
      "source": [
        "<a href=\"https://colab.research.google.com/github/ArpulaAnjali/B19_1319/blob/main/Lab3.ipynb\" target=\"_parent\"><img src=\"https://colab.research.google.com/assets/colab-badge.svg\" alt=\"Open In Colab\"/></a>"
      ]
    },
    {
      "cell_type": "code",
      "execution_count": 4,
      "metadata": {
        "colab": {
          "base_uri": "https://localhost:8080/"
        },
        "id": "feKhtXMy5wqa",
        "outputId": "19810a97-5f9f-4c51-f7d6-906ef5573ab3"
      },
      "outputs": [
        {
          "output_type": "stream",
          "name": "stdout",
          "text": [
            "Data written successfully!\n"
          ]
        }
      ],
      "source": [
        "fp=open(\"example.txt\",\"w\")\n",
        "fp.write(\"Hello,B.Tech students!\\n\")\n",
        "fp.write(\"sR university\\n\")\n",
        "fp.write(\"suresh kumar\")\n",
        "fp.close()\n",
        "print(\"Data written successfully!\")"
      ]
    },
    {
      "cell_type": "code",
      "source": [
        "file=open(\"example.txt\",\"r\")\n",
        "content=file.read()\n",
        "print(\"file Content:\\n\",content)\n",
        "file.close()\n"
      ],
      "metadata": {
        "colab": {
          "base_uri": "https://localhost:8080/"
        },
        "id": "dSv973CQ7aTX",
        "outputId": "f04100f3-8024-4fef-b516-9e52777b4649"
      },
      "execution_count": 5,
      "outputs": [
        {
          "output_type": "stream",
          "name": "stdout",
          "text": [
            "file Content:\n",
            " Hello,B.Tech students!\n",
            "sR university\n",
            "suresh kumar\n"
          ]
        }
      ]
    },
    {
      "cell_type": "code",
      "source": [
        "file=open(\"example.txt\",\"r\")\n",
        "l1=file.readline()\n",
        "print(\"First Line:\",l1)\n",
        "l2=file.readline()\n",
        "print(\"Second Line:\",l2)\n",
        "lines=file.readlines()\n",
        "print(\"All lines:\",lines)\n",
        "file.close()"
      ],
      "metadata": {
        "colab": {
          "base_uri": "https://localhost:8080/"
        },
        "id": "jERA23ma9XPk",
        "outputId": "925d48cd-4f61-42d4-f686-9c7dec5c5357"
      },
      "execution_count": 9,
      "outputs": [
        {
          "output_type": "stream",
          "name": "stdout",
          "text": [
            "First Line: Hello,B.Tech students!\n",
            "\n",
            "Second Line: sR university\n",
            "\n",
            "All lines: ['suresh kumarappending new data..\\n', 'appending new data..\\n']\n"
          ]
        }
      ]
    },
    {
      "cell_type": "code",
      "source": [
        "#appending data to an existing file\n",
        "file=open(\"example.txt\",\"a\")\n",
        "file.write(\"appending new data..\\n\")\n",
        "file.close()"
      ],
      "metadata": {
        "id": "VXwQNwHl_2_0"
      },
      "execution_count": 8,
      "outputs": []
    },
    {
      "cell_type": "code",
      "source": [
        "with open(\"example.txt\",\"r\") as fp:\n",
        "  data=fp.read()\n",
        "  print(data)"
      ],
      "metadata": {
        "colab": {
          "base_uri": "https://localhost:8080/"
        },
        "id": "n1JOm3U6_3MB",
        "outputId": "c1ba4c98-f15c-49d1-890b-6e4b61ca542c"
      },
      "execution_count": 10,
      "outputs": [
        {
          "output_type": "stream",
          "name": "stdout",
          "text": [
            "Hello,B.Tech students!\n",
            "sR university\n",
            "suresh kumarappending new data..\n",
            "appending new data..\n",
            "\n"
          ]
        }
      ]
    },
    {
      "cell_type": "code",
      "source": [
        "import csv\n",
        "with open(\"data.csv\",\"w\",newline='') as fp:\n",
        "  wr=csv.writer(fp)\n",
        "  wr.writerows([[\"Name\",\"Age\",\"Course\"],[\"aaa\",21,\"CSE\"],[\"bbb\",20,\"ECE\"]])\n",
        "with open(\"data.csv\",\"r\") as file:\n",
        "    re=csv.reader(file)\n",
        "    for row in re:\n",
        "      print(row)\n"
      ],
      "metadata": {
        "colab": {
          "base_uri": "https://localhost:8080/"
        },
        "id": "vhMVsI_zBSSC",
        "outputId": "fd5a3898-0cdf-44d7-b1f1-ecbb82df218a"
      },
      "execution_count": 14,
      "outputs": [
        {
          "output_type": "stream",
          "name": "stdout",
          "text": [
            "['Name', 'Age', 'Course']\n",
            "['aaa', '21', 'CSE']\n",
            "['bbb', '20', 'ECE']\n"
          ]
        }
      ]
    },
    {
      "cell_type": "code",
      "source": [
        "import numpy as np\n",
        "arr1=np.array([1,2,3,4])\n",
        "print(\"1D Array:\",arr1)"
      ],
      "metadata": {
        "colab": {
          "base_uri": "https://localhost:8080/"
        },
        "id": "51zIiKAzES7i",
        "outputId": "4cb016eb-4046-499a-9d68-3117a981a03e"
      },
      "execution_count": 17,
      "outputs": [
        {
          "output_type": "stream",
          "name": "stdout",
          "text": [
            "1D Array: [1 2 3 4]\n"
          ]
        }
      ]
    },
    {
      "cell_type": "code",
      "source": [
        "arr2=np.array([[1,2,3],[4,5,6]])\n",
        "print(\"2D Array:\\n\",arr2)"
      ],
      "metadata": {
        "colab": {
          "base_uri": "https://localhost:8080/"
        },
        "id": "3poGjlszEonK",
        "outputId": "98337c0a-8ab8-4b2c-ee49-667260e644fc"
      },
      "execution_count": 18,
      "outputs": [
        {
          "output_type": "stream",
          "name": "stdout",
          "text": [
            "2D Array:\n",
            " [[1 2 3]\n",
            " [4 5 6]]\n"
          ]
        }
      ]
    },
    {
      "cell_type": "code",
      "source": [
        "zeros_arr=np.zeros((3,3))\n",
        "print(\"Zeros Array:\\n\",zeros_arr)"
      ],
      "metadata": {
        "colab": {
          "base_uri": "https://localhost:8080/"
        },
        "id": "atAznJJVE-i8",
        "outputId": "84c7e25a-d1fb-411e-ff0a-2aeb8245e43c"
      },
      "execution_count": 19,
      "outputs": [
        {
          "output_type": "stream",
          "name": "stdout",
          "text": [
            "Zeros Array:\n",
            " [[0. 0. 0.]\n",
            " [0. 0. 0.]\n",
            " [0. 0. 0.]]\n"
          ]
        }
      ]
    },
    {
      "cell_type": "code",
      "source": [
        "ones_arr=np.ones((2,4))\n",
        "print(\"Ones Array:\\n\",ones_arr)"
      ],
      "metadata": {
        "colab": {
          "base_uri": "https://localhost:8080/"
        },
        "id": "ah-pdDWgFZPA",
        "outputId": "8bd63c15-695d-4cb4-fad9-18dce1536a69"
      },
      "execution_count": 20,
      "outputs": [
        {
          "output_type": "stream",
          "name": "stdout",
          "text": [
            "Ones Array:\n",
            " [[1. 1. 1. 1.]\n",
            " [1. 1. 1. 1.]]\n"
          ]
        }
      ]
    },
    {
      "cell_type": "code",
      "source": [
        "arr=np.array([[1,2,3],[4,5,6]])\n",
        "print(\"Shape:\",arr.shape)#(rows,columns)\n",
        "print(\"dimension:\",arr.ndim)#2D Array\n",
        "print(\"data type:\",arr.dtype)#int64 or float64\n",
        "print(\"Size:\",arr.size)#total elements\n",
        "print(\"item size:\",arr.itemsize)#bytes per element"
      ],
      "metadata": {
        "colab": {
          "base_uri": "https://localhost:8080/"
        },
        "id": "7e72g-BgFkZV",
        "outputId": "f8548f68-6f4b-41ac-8564-0c4c84931cfd"
      },
      "execution_count": 26,
      "outputs": [
        {
          "output_type": "stream",
          "name": "stdout",
          "text": [
            "Shape: (2, 3)\n",
            "dimension: 2\n",
            "data type: int64\n",
            "Size: 6\n",
            "item size: 8\n"
          ]
        }
      ]
    },
    {
      "cell_type": "code",
      "source": [
        "a=np.array([10,20,30,40,50])\n",
        "print(\"first element:\",a[0])\n",
        "print(\"last element:\",a[-1])\n",
        "print(\"slice[1:4]:\",a[1:4])\n",
        "print(\"every second element:\",a[::2])"
      ],
      "metadata": {
        "colab": {
          "base_uri": "https://localhost:8080/"
        },
        "id": "tRtKxlgkMx-v",
        "outputId": "41b03979-c87b-4dc1-ccc1-70da0df3a6ff"
      },
      "execution_count": 28,
      "outputs": [
        {
          "output_type": "stream",
          "name": "stdout",
          "text": [
            "first element: 10\n",
            "last element: 50\n",
            "slice[1:4]: [20 30 40]\n",
            "every second element: [10 30 50]\n"
          ]
        }
      ]
    },
    {
      "cell_type": "code",
      "source": [
        "#2D indexing\n",
        "arr2=np.array([[1,2,3],[4,5,6]])\n",
        "print(\"element at r1 col 2:\",arr2[0,1])\n",
        "print(\"second row\",arr2[1,:])\n",
        "print(\"second column:\",arr2[:,1])"
      ],
      "metadata": {
        "colab": {
          "base_uri": "https://localhost:8080/"
        },
        "id": "IFSnOXpdMyGG",
        "outputId": "9a27461a-0c93-46e2-abbb-e01cad3ce07f"
      },
      "execution_count": 27,
      "outputs": [
        {
          "output_type": "stream",
          "name": "stdout",
          "text": [
            "element at r1 col 2: 2\n",
            "second row [4 5 6]\n",
            "second column: [2 5]\n"
          ]
        }
      ]
    },
    {
      "cell_type": "code",
      "source": [
        "a = np.array([1, 2, 3])\n",
        "b = 5\n",
        "print(\"Add scalar to array:\", a + b)  # [6 7 8]\n",
        "\n",
        "c = np.array([[1], [2], [3]])\n",
        "d = np.array([4, 5, 6])\n",
        "print(\"Broadcasted sum:\\n\",c+d)"
      ],
      "metadata": {
        "colab": {
          "base_uri": "https://localhost:8080/"
        },
        "id": "NZU0FrYEaF_B",
        "outputId": "2273bbce-d0c0-48ee-eacd-7e30dcd613cc"
      },
      "execution_count": 33,
      "outputs": [
        {
          "output_type": "stream",
          "name": "stdout",
          "text": [
            "Add scalar to array: [6 7 8]\n",
            "Broadcasted sum:\n",
            " [[5 6 7]\n",
            " [6 7 8]\n",
            " [7 8 9]]\n"
          ]
        }
      ]
    },
    {
      "cell_type": "code",
      "source": [
        "A = np.array([[1, 2], [3, 4]])\n",
        "B = np.array([[5, 6], [7, 8]])\n",
        "\n",
        "print(\"Matrix Multiplication:\\n\", np.dot(A, B))\n",
        "print(\"Transpose:\\n\", A.T)\n",
        "print(\"Inverse:\\n\", np.linalg.inv(A))\n",
        "print(\"Determinant:\", np.linalg.det(A))"
      ],
      "metadata": {
        "colab": {
          "base_uri": "https://localhost:8080/"
        },
        "id": "G5KNa3EzaGMc",
        "outputId": "778d1fe9-ef39-4fd5-de39-51434304a24d"
      },
      "execution_count": 31,
      "outputs": [
        {
          "output_type": "stream",
          "name": "stdout",
          "text": [
            "Matrix Multiplication:\n",
            " [[19 22]\n",
            " [43 50]]\n",
            "Transpose:\n",
            " [[1 3]\n",
            " [2 4]]\n",
            "Inverse:\n",
            " [[-2.   1. ]\n",
            " [ 1.5 -0.5]]\n",
            "Determinant: -2.0000000000000004\n"
          ]
        }
      ]
    },
    {
      "cell_type": "code",
      "source": [
        "import numpy as np\n",
        "\n",
        "# Marks of students in 3 subjects\n",
        "marks = np.array([\n",
        "    [85, 90, 88],\n",
        "    [78, 81, 85],\n",
        "    [92, 89, 95]\n",
        "])\n",
        "\n",
        "print(\"Average marks per student:\", np.mean(marks, axis=1))\n",
        "print(\"Average marks per subject:\", np.mean(marks, axis=0))\n",
        "print(\"Highest marks in each subject:\", np.max(marks, axis=0))\n",
        "print(\"Lowest marks in each subject:\", np.min(marks,axis=0))"
      ],
      "metadata": {
        "colab": {
          "base_uri": "https://localhost:8080/"
        },
        "id": "X9JlCkwfZ0lH",
        "outputId": "51346c19-0405-481b-be6f-573b73d9d143"
      },
      "execution_count": 30,
      "outputs": [
        {
          "output_type": "stream",
          "name": "stdout",
          "text": [
            "Average marks per student: [87.66666667 81.33333333 92.        ]\n",
            "Average marks per subject: [85.         86.66666667 89.33333333]\n",
            "Highest marks in each subject: [92 90 95]\n",
            "Lowest marks in each subject: [78 81 85]\n"
          ]
        }
      ]
    }
  ]
}