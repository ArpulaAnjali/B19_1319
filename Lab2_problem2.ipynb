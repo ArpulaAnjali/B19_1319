{
  "nbformat": 4,
  "nbformat_minor": 0,
  "metadata": {
    "colab": {
      "provenance": [],
      "authorship_tag": "ABX9TyPI0mvRJCAJI3khRqJQ7m3o",
      "include_colab_link": true
    },
    "kernelspec": {
      "name": "python3",
      "display_name": "Python 3"
    },
    "language_info": {
      "name": "python"
    }
  },
  "cells": [
    {
      "cell_type": "markdown",
      "metadata": {
        "id": "view-in-github",
        "colab_type": "text"
      },
      "source": [
        "<a href=\"https://colab.research.google.com/github/ArpulaAnjali/B19_1319/blob/main/Lab2_problem2.ipynb\" target=\"_parent\"><img src=\"https://colab.research.google.com/assets/colab-badge.svg\" alt=\"Open In Colab\"/></a>"
      ]
    },
    {
      "cell_type": "code",
      "execution_count": 4,
      "metadata": {
        "colab": {
          "base_uri": "https://localhost:8080/"
        },
        "id": "NhUcWwrjURyg",
        "outputId": "1a75154c-9bf3-46cb-9123-60bc5e966ee6"
      },
      "outputs": [
        {
          "output_type": "stream",
          "name": "stdout",
          "text": [
            "Original DataFrame:\n",
            "       Name   ID Department  Salary\n",
            "0    Alice  101         HR   48000\n",
            "1      Bob  102         IT   55000\n",
            "2  Charlie  103    Finance   72000\n",
            "3    David  104         IT   50000\n",
            "4      Eva  105  Marketing   65000\n",
            "\n",
            "Employees with Salary > 50,000:\n",
            "       Name   ID Department  Salary\n",
            "1      Bob  102         IT   55000\n",
            "2  Charlie  103    Finance   72000\n",
            "4      Eva  105  Marketing   65000\n",
            "\n",
            "DataFrame with Bonus:\n",
            "       Name   ID Department  Salary   Bonus\n",
            "0    Alice  101         HR   48000  4800.0\n",
            "1      Bob  102         IT   55000  5500.0\n",
            "2  Charlie  103    Finance   72000  7200.0\n",
            "3    David  104         IT   50000  5000.0\n",
            "4      Eva  105  Marketing   65000  6500.0\n",
            "\n",
            "Total Salary Expense (including bonuses): 319000.0\n",
            "\n",
            "Data saved to employee_data.csv\n"
          ]
        }
      ],
      "source": [
        "import pandas as pd\n",
        "\n",
        "# 1. Create a DataFrame\n",
        "data = {\n",
        "    'Name': ['Alice', 'Bob', 'Charlie', 'David', 'Eva'],\n",
        "    'ID': [101, 102, 103, 104, 105],\n",
        "    'Department': ['HR', 'IT', 'Finance', 'IT', 'Marketing'],\n",
        "    'Salary': [48000, 55000, 72000, 50000, 65000]\n",
        "}\n",
        "\n",
        "df = pd.DataFrame(data)\n",
        "print(\"Original DataFrame:\\n\", df)\n",
        "high_salary = df[df['Salary'] > 50000]\n",
        "print(\"\\nEmployees with Salary > 50,000:\\n\", high_salary)\n",
        "df['Bonus'] = df['Salary'] * 0.10\n",
        "print(\"\\nDataFrame with Bonus:\\n\", df)\n",
        "total_expense = (df['Salary'] + df['Bonus']).sum()\n",
        "print(\"\\nTotal Salary Expense (including bonuses):\", total_expense)\n",
        "df.to_csv(\"employee_data.csv\", index=False)\n",
        "print(\"\\nData saved to employee_data.csv\")"
      ]
    }
  ]
}