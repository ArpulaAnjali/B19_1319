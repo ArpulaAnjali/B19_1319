{
  "nbformat": 4,
  "nbformat_minor": 0,
  "metadata": {
    "colab": {
      "provenance": [],
      "authorship_tag": "ABX9TyNbZTJruXQ7Nf3NQ5AWXAtT",
      "include_colab_link": true
    },
    "kernelspec": {
      "name": "python3",
      "display_name": "Python 3"
    },
    "language_info": {
      "name": "python"
    }
  },
  "cells": [
    {
      "cell_type": "markdown",
      "metadata": {
        "id": "view-in-github",
        "colab_type": "text"
      },
      "source": [
        "<a href=\"https://colab.research.google.com/github/ArpulaAnjali/B19_1319/blob/main/Lab4.ipynb\" target=\"_parent\"><img src=\"https://colab.research.google.com/assets/colab-badge.svg\" alt=\"Open In Colab\"/></a>"
      ]
    },
    {
      "cell_type": "code",
      "execution_count": 2,
      "metadata": {
        "colab": {
          "base_uri": "https://localhost:8080/"
        },
        "id": "fKXj_0MS8INd",
        "outputId": "f642ab3b-5289-485c-c30c-70c0dde7e705"
      },
      "outputs": [
        {
          "output_type": "stream",
          "name": "stdout",
          "text": [
            "Panda series\n",
            "0    10\n",
            "1    20\n",
            "2    30\n",
            "3    40\n",
            "4    50\n",
            "dtype: int64\n"
          ]
        }
      ],
      "source": [
        "import pandas as pd\n",
        "data=[10,20,30,40,50]\n",
        "series=pd.Series(data)\n",
        "print(\"Panda series\")\n",
        "print(series)"
      ]
    },
    {
      "cell_type": "code",
      "source": [
        "#Custom index\n",
        "data=[10,20,30,40,50]\n",
        "index_label=['a','b','c','d','e']\n",
        "series=pd.Series(data,index=index_label)\n",
        "print(series)"
      ],
      "metadata": {
        "colab": {
          "base_uri": "https://localhost:8080/"
        },
        "id": "vDR7ITnk8d3H",
        "outputId": "6947341c-63de-4418-cbfc-fe768dbfda98"
      },
      "execution_count": 3,
      "outputs": [
        {
          "output_type": "stream",
          "name": "stdout",
          "text": [
            "a    10\n",
            "b    20\n",
            "c    30\n",
            "d    40\n",
            "e    50\n",
            "dtype: int64\n"
          ]
        }
      ]
    },
    {
      "cell_type": "code",
      "source": [
        "data={\n",
        "    'name':['alice','bob','charlie'],\n",
        "    'age':[25,30,35],\n",
        "    'city':['New York','San Francisco','Los Angeles']\n",
        "}\n",
        "df=pd.DataFrame(data)\n",
        "print(df)"
      ],
      "metadata": {
        "colab": {
          "base_uri": "https://localhost:8080/"
        },
        "id": "X_p7f4228d9M",
        "outputId": "f8a2e578-dd1b-4089-fe09-68d376820d97"
      },
      "execution_count": 4,
      "outputs": [
        {
          "output_type": "stream",
          "name": "stdout",
          "text": [
            "      name  age           city\n",
            "0    alice   25       New York\n",
            "1      bob   30  San Francisco\n",
            "2  charlie   35    Los Angeles\n"
          ]
        }
      ]
    },
    {
      "cell_type": "code",
      "source": [
        "print(df['name'])\n",
        "print(df[['name',\"city\"]])\n",
        "print(df.iloc[1])\n",
        "print(df.loc[2])\n",
        "df['Salary']=[40000,50000,60000]\n",
        "print(df)\n",
        "df=df.drop('city',axis=1)\n",
        "print(df)"
      ],
      "metadata": {
        "colab": {
          "base_uri": "https://localhost:8080/"
        },
        "id": "mEmf-t4e-Rwk",
        "outputId": "7fbc157c-41ed-4aa2-db05-bbf1e985d108"
      },
      "execution_count": 6,
      "outputs": [
        {
          "output_type": "stream",
          "name": "stdout",
          "text": [
            "0      alice\n",
            "1        bob\n",
            "2    charlie\n",
            "Name: name, dtype: object\n",
            "      name           city\n",
            "0    alice       New York\n",
            "1      bob  San Francisco\n",
            "2  charlie    Los Angeles\n",
            "name              bob\n",
            "age                30\n",
            "city    San Francisco\n",
            "Name: 1, dtype: object\n",
            "name        charlie\n",
            "age              35\n",
            "city    Los Angeles\n",
            "Name: 2, dtype: object\n",
            "      name  age           city  Salary\n",
            "0    alice   25       New York   40000\n",
            "1      bob   30  San Francisco   50000\n",
            "2  charlie   35    Los Angeles   60000\n",
            "      name  age  Salary\n",
            "0    alice   25   40000\n",
            "1      bob   30   50000\n",
            "2  charlie   35   60000\n"
          ]
        }
      ]
    },
    {
      "cell_type": "code",
      "source": [
        "print(df[df['age']>30])\n",
        "print(df['age'].mean())\n",
        "print(df['age'].max())\n",
        "print(df['age'].min())"
      ],
      "metadata": {
        "colab": {
          "base_uri": "https://localhost:8080/"
        },
        "id": "1WnRUDIj_jMC",
        "outputId": "2dd21c52-5c67-44d4-854a-a8f5ecae114a"
      },
      "execution_count": 8,
      "outputs": [
        {
          "output_type": "stream",
          "name": "stdout",
          "text": [
            "      name  age  Salary\n",
            "2  charlie   35   60000\n",
            "30.0\n",
            "35\n",
            "25\n"
          ]
        }
      ]
    },
    {
      "cell_type": "code",
      "source": [
        "student_data={\n",
        "    'sid':[101,102,103,104],\n",
        "    'name':['ravi','neha','kiran','sita'],\n",
        "    'marks':[85,90,78,92],\n",
        "    'Department':['CSE','ECE','MECH','CSE']\n",
        "}\n",
        "df=pd.DataFrame(student_data)\n",
        "print(\"Student Data\")\n",
        "print(df)"
      ],
      "metadata": {
        "colab": {
          "base_uri": "https://localhost:8080/"
        },
        "id": "wrifqgxCBQJX",
        "outputId": "e9363964-f0a6-417e-e0b1-408276031e7c"
      },
      "execution_count": 11,
      "outputs": [
        {
          "output_type": "stream",
          "name": "stdout",
          "text": [
            "Student Data\n",
            "   sid   name  marks Department\n",
            "0  101   ravi     85        CSE\n",
            "1  102   neha     90        ECE\n",
            "2  103  kiran     78       MECH\n",
            "3  104   sita     92        CSE\n"
          ]
        }
      ]
    },
    {
      "cell_type": "code",
      "source": [
        "import pandas as pd\n",
        "\n",
        "data = {\n",
        "    \"sname\": [\"Anjali\", \"Palomi\",\"Ashwitha\", \"Ramu\",\"Raju\"],\n",
        "    \"sroll\": [1319, 1233, 1340, 1232,1243],\n",
        "    \"m1\": [55, 35, 72, 90,50],\n",
        "    \"m2\": [65, 45, 60, 85,67],\n",
        "    \"m3\": [70, 38, 50, 95,78]\n",
        "}\n",
        "df = pd.DataFrame(data)\n",
        "df[\"total\"] = df[[\"m1\", \"m2\", \"m3\"]].sum(axis=1)\n",
        "df[\"avg\"] = df[\"total\"] / 3\n",
        "df[\"result\"] = ['pass' if m1 > 40 else 'fail ' for m1 in df['m1']]\n",
        "print(df)"
      ],
      "metadata": {
        "colab": {
          "base_uri": "https://localhost:8080/"
        },
        "id": "95v43fh2FOv7",
        "outputId": "d59f4bcf-0537-4998-c2fc-7caae0c498b7"
      },
      "execution_count": 14,
      "outputs": [
        {
          "output_type": "stream",
          "name": "stdout",
          "text": [
            "      sname  sroll  m1  m2  m3  total        avg result\n",
            "0    Anjali   1319  55  65  70    190  63.333333   pass\n",
            "1    Palomi   1233  35  45  38    118  39.333333  fail \n",
            "2  Ashwitha   1340  72  60  50    182  60.666667   pass\n",
            "3      Ramu   1232  90  85  95    270  90.000000   pass\n",
            "4      Raju   1243  50  67  78    195  65.000000   pass\n"
          ]
        }
      ]
    }
  ]
}