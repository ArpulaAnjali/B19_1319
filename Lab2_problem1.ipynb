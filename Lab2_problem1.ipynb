{
  "nbformat": 4,
  "nbformat_minor": 0,
  "metadata": {
    "colab": {
      "provenance": [],
      "authorship_tag": "ABX9TyMsBjtWoBUItwfJw90jUF48",
      "include_colab_link": true
    },
    "kernelspec": {
      "name": "python3",
      "display_name": "Python 3"
    },
    "language_info": {
      "name": "python"
    }
  },
  "cells": [
    {
      "cell_type": "markdown",
      "metadata": {
        "id": "view-in-github",
        "colab_type": "text"
      },
      "source": [
        "<a href=\"https://colab.research.google.com/github/ArpulaAnjali/B19_1319/blob/main/Lab2_problem1.ipynb\" target=\"_parent\"><img src=\"https://colab.research.google.com/assets/colab-badge.svg\" alt=\"Open In Colab\"/></a>"
      ]
    },
    {
      "cell_type": "code",
      "source": [
        "import numpy as np\n",
        "Marks=np.array([[96,56,80],[67,89,78],[90,67,56],[89,90,78],[67,45,34]])\n",
        "print(Marks)"
      ],
      "metadata": {
        "colab": {
          "base_uri": "https://localhost:8080/"
        },
        "id": "LZ1rvBmxQRkl",
        "outputId": "6995c1ae-d1df-4849-f08a-bc7f7aea8770"
      },
      "execution_count": 2,
      "outputs": [
        {
          "output_type": "stream",
          "name": "stdout",
          "text": [
            "[[96 56 80]\n",
            " [67 89 78]\n",
            " [90 67 56]\n",
            " [89 90 78]\n",
            " [67 45 34]]\n"
          ]
        }
      ]
    },
    {
      "cell_type": "code",
      "source": [
        "avg_marks = Marks.mean(axis=1)\n",
        "min_marks = Marks.min(axis=1)\n",
        "max_marks = Marks.max(axis=1)\n",
        "print(\"\\nAverage marks per student:\", avg_marks)\n",
        "print(\"Minimum marks per student:\", min_marks)\n",
        "print(\"Maximum marks per student:\", max_marks)"
      ],
      "metadata": {
        "colab": {
          "base_uri": "https://localhost:8080/"
        },
        "id": "INOQs_NHQRtj",
        "outputId": "1b81c1d2-9b5e-4ce5-c659-efce2e246ae2"
      },
      "execution_count": 3,
      "outputs": [
        {
          "output_type": "stream",
          "name": "stdout",
          "text": [
            "\n",
            "Average marks per student: [77.33333333 78.         71.         85.66666667 48.66666667]\n",
            "Minimum marks per student: [56 67 56 78 34]\n",
            "Maximum marks per student: [96 89 90 90 67]\n"
          ]
        }
      ]
    },
    {
      "cell_type": "code",
      "source": [
        "print(\"\\nMarks of Students 2 to 4:\\n\", Marks[1:4])"
      ],
      "metadata": {
        "colab": {
          "base_uri": "https://localhost:8080/"
        },
        "id": "4t4CRPRNQRwD",
        "outputId": "a309ce4e-5007-49ad-f098-3192163f40e1"
      },
      "execution_count": 4,
      "outputs": [
        {
          "output_type": "stream",
          "name": "stdout",
          "text": [
            "\n",
            "Marks of Students 2 to 4:\n",
            " [[67 89 78]\n",
            " [90 67 56]\n",
            " [89 90 78]]\n"
          ]
        }
      ]
    },
    {
      "cell_type": "code",
      "source": [
        "above_80 = Marks[(Marks > 80).all(axis=1)]\n",
        "print(\"\\nStudents scoring above 80 in all subjects:\\n\", above_80)"
      ],
      "metadata": {
        "colab": {
          "base_uri": "https://localhost:8080/"
        },
        "id": "j7CFj7Q4QRzY",
        "outputId": "723cbeb2-2ee0-45fd-d9bf-3db535f90619"
      },
      "execution_count": 5,
      "outputs": [
        {
          "output_type": "stream",
          "name": "stdout",
          "text": [
            "\n",
            "Students scoring above 80 in all subjects:\n",
            " []\n"
          ]
        }
      ]
    },
    {
      "cell_type": "code",
      "source": [
        "reshaped = Marks.T\n",
        "print(\"\\nSubject-wise performance:\\n\", reshaped)"
      ],
      "metadata": {
        "colab": {
          "base_uri": "https://localhost:8080/"
        },
        "id": "gq5c4m9vTh-U",
        "outputId": "e4da6024-e8f8-4993-9d5d-508831c60ca0"
      },
      "execution_count": 6,
      "outputs": [
        {
          "output_type": "stream",
          "name": "stdout",
          "text": [
            "\n",
            "Subject-wise performance:\n",
            " [[96 67 90 89 67]\n",
            " [56 89 67 90 45]\n",
            " [80 78 56 78 34]]\n"
          ]
        }
      ]
    }
  ]
}